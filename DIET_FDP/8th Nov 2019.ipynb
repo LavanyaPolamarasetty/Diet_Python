{
 "cells": [
  {
   "cell_type": "code",
   "execution_count": 1,
   "metadata": {},
   "outputs": [
    {
     "name": "stdout",
     "output_type": "stream",
     "text": [
      "1 name     python     c     java\n",
      "ayyappa    90       70     60\n",
      "lakshmi    70       60     30\n",
      "ram        90       90     80\n",
      "2 \n"
     ]
    }
   ],
   "source": [
    "fh=open('students.txt')\n",
    "data=fh.read()\n",
    "print('1',data)\n",
    "data=fh.read()\n",
    "print('2',data)\n",
    "fh.close()"
   ]
  },
  {
   "cell_type": "code",
   "execution_count": 2,
   "metadata": {},
   "outputs": [
    {
     "name": "stdout",
     "output_type": "stream",
     "text": [
      "cursor position before read 0\n",
      "cursor position after read 120\n"
     ]
    }
   ],
   "source": [
    "fh=open('students.txt') # by default read mode\n",
    "print('cursor position before read',fh.tell()) # it tells about the current positon of cursor 0th Position \n",
    "fh.read()\n",
    "print('cursor position after read',fh.tell()) # it tells about the current positon of cursor nth Position \n",
    "fh.close()"
   ]
  },
  {
   "cell_type": "code",
   "execution_count": 3,
   "metadata": {},
   "outputs": [
    {
     "name": "stdout",
     "output_type": "stream",
     "text": [
      "cursor position before read 0\n",
      "cursor position before read 10\n",
      "cursor position after read 120\n"
     ]
    }
   ],
   "source": [
    "fh=open('students.txt') # by default read mode\n",
    "print('cursor position before read',fh.tell()) # it tells about the current positon of cursor 0th Position \n",
    "fh.seek(10)\n",
    "print('cursor position before read',fh.tell()) # it tells about the current positon of cursor 10th Position \n",
    "fh.read()\n",
    "print('cursor position after read',fh.tell()) # it tells about the current positon of cursor nth(last) Position \n",
    "fh.close()"
   ]
  },
  {
   "cell_type": "code",
   "execution_count": 7,
   "metadata": {},
   "outputs": [
    {
     "name": "stdout",
     "output_type": "stream",
     "text": [
      "name     python     c     java\n",
      "\n"
     ]
    }
   ],
   "source": [
    "# to read first line from the file \n",
    "fh=open('students.txt')\n",
    "print(fh.readline())\n",
    "fh.close()\n"
   ]
  },
  {
   "cell_type": "code",
   "execution_count": 9,
   "metadata": {},
   "outputs": [
    {
     "name": "stdout",
     "output_type": "stream",
     "text": [
      "ayyappa    90       70     60\n",
      "\n"
     ]
    }
   ],
   "source": [
    "# to read second line from the file\n",
    "fh=open('students.txt')\n",
    "fh.readline()\n",
    "print(fh.readline())\n",
    "fh.close()"
   ]
  },
  {
   "cell_type": "code",
   "execution_count": 11,
   "metadata": {},
   "outputs": [
    {
     "name": "stdout",
     "output_type": "stream",
     "text": [
      "['name     python     c     java\\n', 'ayyappa    90       70     60\\n', 'lakshmi    70       60     30\\n', 'ram        90       90     80']\n"
     ]
    }
   ],
   "source": [
    "fh=open('students.txt')\n",
    "print(fh.readlines())\n",
    "fh.close()"
   ]
  },
  {
   "cell_type": "code",
   "execution_count": 12,
   "metadata": {},
   "outputs": [
    {
     "name": "stdout",
     "output_type": "stream",
     "text": [
      "name     python     c     java\n",
      "ayyappa    90       70     60\n",
      "lakshmi    70       60     30\n",
      "ram        90       90     80\n"
     ]
    }
   ],
   "source": [
    "fh=open('students.txt')\n",
    "data=fh.read()\n",
    "print(data)\n",
    "fh.close()"
   ]
  },
  {
   "cell_type": "code",
   "execution_count": 15,
   "metadata": {},
   "outputs": [],
   "source": [
    "fh=open('students.txt','r+')\n",
    "data=fh.read()\n",
    "fh.write('Sri Rama sri ramaaaa')\n",
    "fh.close()"
   ]
  },
  {
   "cell_type": "markdown",
   "metadata": {},
   "source": [
    "## Regular Expressions"
   ]
  },
  {
   "cell_type": "code",
   "execution_count": 16,
   "metadata": {},
   "outputs": [],
   "source": [
    "import re"
   ]
  },
  {
   "cell_type": "markdown",
   "metadata": {},
   "source": [
    "#### re.search(str_pattern,str_data)"
   ]
  },
  {
   "cell_type": "code",
   "execution_count": 26,
   "metadata": {},
   "outputs": [
    {
     "name": "stdout",
     "output_type": "stream",
     "text": [
      "<re.Match object; span=(8, 9), match='s'>\n",
      "<re.Match object; span=(0, 1), match='S'>\n",
      "<re.Match object; span=(6, 9), match='m s'>\n"
     ]
    }
   ],
   "source": [
    "name='Sai ram sai ram'\n",
    "print(re.search('s',name))\n",
    "print(re.search('S',name))\n",
    "print(re.search('m s',name))\n"
   ]
  },
  {
   "cell_type": "code",
   "execution_count": 29,
   "metadata": {},
   "outputs": [
    {
     "name": "stdout",
     "output_type": "stream",
     "text": [
      "<re.Match object; span=(5, 6), match='a'>\n"
     ]
    }
   ],
   "source": [
    "name2='Sri Rama'\n",
    "print(re.search('a',name2))"
   ]
  },
  {
   "cell_type": "code",
   "execution_count": 30,
   "metadata": {},
   "outputs": [
    {
     "name": "stdout",
     "output_type": "stream",
     "text": [
      "<re.Match object; span=(0, 3), match='Sri'>\n"
     ]
    }
   ],
   "source": [
    "name2='SriRama'\n",
    "print(re.match('Sri',name2))"
   ]
  },
  {
   "cell_type": "code",
   "execution_count": 31,
   "metadata": {},
   "outputs": [
    {
     "name": "stdout",
     "output_type": "stream",
     "text": [
      "['a', 'a']\n"
     ]
    }
   ],
   "source": [
    "name ='sairam'\n",
    "print(re.findall('a',name))"
   ]
  },
  {
   "cell_type": "markdown",
   "metadata": {},
   "source": [
    "## Special Charecters in Regular Expression"
   ]
  },
  {
   "cell_type": "code",
   "execution_count": 32,
   "metadata": {},
   "outputs": [
    {
     "name": "stdout",
     "output_type": "stream",
     "text": [
      "<re.Match object; span=(0, 1), match='s'>\n",
      "None\n",
      "<re.Match object; span=(0, 3), match='sai'>\n"
     ]
    }
   ],
   "source": [
    "# Dot(.) for single charecter\n",
    "print(re.search('.','sairam'))\n",
    "print(re.search('.',\"\"))\n",
    "print(re.search('...','sairam'))\n"
   ]
  },
  {
   "cell_type": "code",
   "execution_count": 33,
   "metadata": {},
   "outputs": [
    {
     "name": "stdout",
     "output_type": "stream",
     "text": [
      "<re.Match object; span=(0, 1), match='s'>\n"
     ]
    }
   ],
   "source": [
    "# ^ \n",
    "\n",
    "print(re.search('.','sairam'))"
   ]
  },
  {
   "cell_type": "code",
   "execution_count": 34,
   "metadata": {},
   "outputs": [
    {
     "name": "stdout",
     "output_type": "stream",
     "text": [
      "<re.Match object; span=(2, 6), match='iram'>\n",
      "<re.Match object; span=(3, 7), match='eram'>\n",
      "None\n",
      "<re.Match object; span=(0, 4), match='raam'>\n"
     ]
    }
   ],
   "source": [
    "name1='sairam'\n",
    "name2='sreeram'\n",
    "name3 = 'ram'\n",
    "name4 = 'raam'\n",
    "print(re.search('...m$',name1))\n",
    "print(re.search('...m$',name2))\n",
    "print(re.search('...m$',name3))\n",
    "print(re.search('...m$',name4))"
   ]
  },
  {
   "cell_type": "code",
   "execution_count": 35,
   "metadata": {},
   "outputs": [
    {
     "name": "stdout",
     "output_type": "stream",
     "text": [
      "['apples', 'oranges', 'grapes', 'bananas', 'lemons']\n"
     ]
    }
   ],
   "source": [
    "names=['apples','oranges','grapes','bananas','lemons']\n",
    "print(names)"
   ]
  },
  {
   "cell_type": "code",
   "execution_count": 37,
   "metadata": {},
   "outputs": [
    {
     "ename": "TypeError",
     "evalue": "expected string or bytes-like object",
     "output_type": "error",
     "traceback": [
      "\u001b[1;31m---------------------------------------------------------------------------\u001b[0m",
      "\u001b[1;31mTypeError\u001b[0m                                 Traceback (most recent call last)",
      "\u001b[1;32m<ipython-input-37-78f7ddc36b1a>\u001b[0m in \u001b[0;36m<module>\u001b[1;34m\u001b[0m\n\u001b[1;32m----> 1\u001b[1;33m \u001b[0mprint\u001b[0m\u001b[1;33m(\u001b[0m\u001b[0mre\u001b[0m\u001b[1;33m.\u001b[0m\u001b[0msearch\u001b[0m\u001b[1;33m(\u001b[0m\u001b[1;34m'.....s$'\u001b[0m\u001b[1;33m,\u001b[0m\u001b[0mnames\u001b[0m\u001b[1;33m)\u001b[0m\u001b[1;33m)\u001b[0m\u001b[1;33m\u001b[0m\u001b[1;33m\u001b[0m\u001b[0m\n\u001b[0m",
      "\u001b[1;32m~\\Anaconda3\\lib\\re.py\u001b[0m in \u001b[0;36msearch\u001b[1;34m(pattern, string, flags)\u001b[0m\n\u001b[0;32m    181\u001b[0m     \"\"\"Scan through string looking for a match to the pattern, returning\n\u001b[0;32m    182\u001b[0m     a Match object, or None if no match was found.\"\"\"\n\u001b[1;32m--> 183\u001b[1;33m     \u001b[1;32mreturn\u001b[0m \u001b[0m_compile\u001b[0m\u001b[1;33m(\u001b[0m\u001b[0mpattern\u001b[0m\u001b[1;33m,\u001b[0m \u001b[0mflags\u001b[0m\u001b[1;33m)\u001b[0m\u001b[1;33m.\u001b[0m\u001b[0msearch\u001b[0m\u001b[1;33m(\u001b[0m\u001b[0mstring\u001b[0m\u001b[1;33m)\u001b[0m\u001b[1;33m\u001b[0m\u001b[1;33m\u001b[0m\u001b[0m\n\u001b[0m\u001b[0;32m    184\u001b[0m \u001b[1;33m\u001b[0m\u001b[0m\n\u001b[0;32m    185\u001b[0m \u001b[1;32mdef\u001b[0m \u001b[0msub\u001b[0m\u001b[1;33m(\u001b[0m\u001b[0mpattern\u001b[0m\u001b[1;33m,\u001b[0m \u001b[0mrepl\u001b[0m\u001b[1;33m,\u001b[0m \u001b[0mstring\u001b[0m\u001b[1;33m,\u001b[0m \u001b[0mcount\u001b[0m\u001b[1;33m=\u001b[0m\u001b[1;36m0\u001b[0m\u001b[1;33m,\u001b[0m \u001b[0mflags\u001b[0m\u001b[1;33m=\u001b[0m\u001b[1;36m0\u001b[0m\u001b[1;33m)\u001b[0m\u001b[1;33m:\u001b[0m\u001b[1;33m\u001b[0m\u001b[1;33m\u001b[0m\u001b[0m\n",
      "\u001b[1;31mTypeError\u001b[0m: expected string or bytes-like object"
     ]
    }
   ],
   "source": [
    "print(re.search('.....s$',names))"
   ]
  },
  {
   "cell_type": "code",
   "execution_count": 38,
   "metadata": {},
   "outputs": [
    {
     "name": "stdout",
     "output_type": "stream",
     "text": [
      "['apples', 'oranges', 'grapes', 'bananas', 'lemons']\n"
     ]
    }
   ],
   "source": [
    "print(list(names))"
   ]
  },
  {
   "cell_type": "code",
   "execution_count": 40,
   "metadata": {},
   "outputs": [
    {
     "name": "stdout",
     "output_type": "stream",
     "text": [
      "<re.Match object; span=(0, 6), match='apples'>\n",
      "<re.Match object; span=(1, 7), match='ranges'>\n",
      "<re.Match object; span=(0, 6), match='grapes'>\n",
      "<re.Match object; span=(1, 7), match='ananas'>\n",
      "<re.Match object; span=(0, 6), match='lemons'>\n"
     ]
    }
   ],
   "source": [
    "for each in list(names):\n",
    "    print(re.search('.....s$',each))"
   ]
  },
  {
   "cell_type": "code",
   "execution_count": 42,
   "metadata": {},
   "outputs": [
    {
     "name": "stdout",
     "output_type": "stream",
     "text": [
      "apples\n",
      "grapes\n",
      "lemons\n"
     ]
    }
   ],
   "source": [
    "for item in names:\n",
    "    if re.search('^.....s$',item):\n",
    "        print(item)"
   ]
  },
  {
   "cell_type": "code",
   "execution_count": 45,
   "metadata": {},
   "outputs": [
    {
     "name": "stdout",
     "output_type": "stream",
     "text": [
      "None\n",
      "None\n",
      "<re.Match object; span=(0, 4), match='aaaa'>\n"
     ]
    }
   ],
   "source": [
    "##{min,max)\n",
    "\n",
    "print(re.search('a{4}','baabaaba'))\n",
    "print(re.search('a{4}','aa'))\n",
    "print(re.search('a{4}','aaaaaa'))\n"
   ]
  },
  {
   "cell_type": "markdown",
   "metadata": {},
   "source": [
    "## validating mobile number , must contain 10 digits"
   ]
  },
  {
   "cell_type": "code",
   "execution_count": 48,
   "metadata": {},
   "outputs": [
    {
     "name": "stdout",
     "output_type": "stream",
     "text": [
      "<re.Match object; span=(0, 10), match='1234567890'>\n",
      "None\n",
      "None\n"
     ]
    }
   ],
   "source": [
    "print(re.search('^\\d{10}$','1234567890'))\n",
    "print(re.search('^\\d{10}$','1234567890123'))\n",
    "print(re.search('^\\d{10}$','1234567'))"
   ]
  },
  {
   "cell_type": "code",
   "execution_count": 51,
   "metadata": {},
   "outputs": [
    {
     "name": "stdout",
     "output_type": "stream",
     "text": [
      "<re.Match object; span=(8, 9), match='8'>\n"
     ]
    }
   ],
   "source": [
    "print(re.search('[9]','sairam678234'))"
   ]
  },
  {
   "cell_type": "code",
   "execution_count": 54,
   "metadata": {},
   "outputs": [
    {
     "name": "stdout",
     "output_type": "stream",
     "text": [
      "None\n"
     ]
    }
   ],
   "source": [
    "print(re.search('[k-o]','sai982123'))"
   ]
  },
  {
   "cell_type": "code",
   "execution_count": 55,
   "metadata": {},
   "outputs": [
    {
     "data": {
      "text/plain": [
       "<re.Match object; span=(3, 4), match='8'>"
      ]
     },
     "execution_count": 55,
     "metadata": {},
     "output_type": "execute_result"
    }
   ],
   "source": [
    "re.search('[^429]','4298')"
   ]
  },
  {
   "cell_type": "code",
   "execution_count": 58,
   "metadata": {},
   "outputs": [
    {
     "name": "stdout",
     "output_type": "stream",
     "text": [
      "<re.Match object; span=(0, 10), match='9848484848'>\n",
      "<re.Match object; span=(0, 10), match='6848484848'>\n",
      "<re.Match object; span=(0, 10), match='7848484848'>\n",
      "<re.Match object; span=(0, 10), match='8848484848'>\n",
      "None\n",
      "None\n",
      "None\n",
      "None\n"
     ]
    }
   ],
   "source": [
    "#validating indian mobile number\n",
    "print(re.search('^[6-9]\\d{9}$','9848484848'))\n",
    "print(re.search('^[6-9]\\d{9}$','6848484848'))\n",
    "print(re.search('^[6-9]\\d{9}$','7848484848'))\n",
    "print(re.search('^[6-9]\\d{9}$','8848484848'))\n",
    "print(re.search('^[6-9]\\d{9}$','848484848'))\n",
    "print(re.search('^[6-9]\\d{9}$','4848484848'))\n",
    "print(re.search('^[6-9]\\d{9}$','09848484848'))\n",
    "print(re.search('^[6-9]\\d{9}$','29848484848'))"
   ]
  },
  {
   "cell_type": "code",
   "execution_count": 59,
   "metadata": {},
   "outputs": [
    {
     "name": "stdout",
     "output_type": "stream",
     "text": [
      " \n",
      "abc 123\n",
      "hi 456 hello78\n",
      "thanks\n",
      "\n"
     ]
    }
   ],
   "source": [
    "web_content=\"\"\" \n",
    "abc 123\n",
    "hi 456 hello78\n",
    "thanks\n",
    "\"\"\"\n",
    "print(web_content)"
   ]
  },
  {
   "cell_type": "code",
   "execution_count": 71,
   "metadata": {},
   "outputs": [
    {
     "name": "stdout",
     "output_type": "stream",
     "text": [
      "36\n"
     ]
    }
   ],
   "source": [
    "s=0\n",
    "for each in list(web_content):\n",
    "      if re.search('^[0-9]',each):\n",
    "        s+=int(each)\n",
    "print(s)"
   ]
  },
  {
   "cell_type": "code",
   "execution_count": 72,
   "metadata": {},
   "outputs": [
    {
     "name": "stdout",
     "output_type": "stream",
     "text": [
      "['1', '2', '3', '4', '5', '6', '7', '8']\n"
     ]
    }
   ],
   "source": [
    "print(re.findall('\\d',web_content))"
   ]
  },
  {
   "cell_type": "code",
   "execution_count": 73,
   "metadata": {},
   "outputs": [
    {
     "name": "stdout",
     "output_type": "stream",
     "text": [
      "36\n"
     ]
    }
   ],
   "source": [
    "print(sum(list(map(int,re.findall('\\d',web_content)))))"
   ]
  },
  {
   "cell_type": "code",
   "execution_count": 76,
   "metadata": {},
   "outputs": [
    {
     "name": "stdout",
     "output_type": "stream",
     "text": [
      "<re.Match object; span=(0, 1), match='r'>\n"
     ]
    }
   ],
   "source": [
    "print(re.search('\\D','rama123sai'))"
   ]
  },
  {
   "cell_type": "code",
   "execution_count": 77,
   "metadata": {},
   "outputs": [
    {
     "name": "stdout",
     "output_type": "stream",
     "text": [
      " \n",
      "abc 123\n",
      "hi 456 hello78\n",
      "thanks\n",
      "\n"
     ]
    }
   ],
   "source": [
    "print(web_content)"
   ]
  },
  {
   "cell_type": "code",
   "execution_count": 88,
   "metadata": {},
   "outputs": [
    {
     "name": "stdout",
     "output_type": "stream",
     "text": [
      " \n",
      "abc 123\n",
      "hi 456 hello78\n",
      "thanks\n",
      "\n",
      "Total Number of charecter =  32\n",
      "Number of integer         =  8\n",
      "Number of Charecter       =  24\n",
      "Number of space =  8\n",
      "Number of charecter excluding space =  24\n"
     ]
    }
   ],
   "source": [
    "print(web_content)\n",
    "print('Total Number of charecter = ',len(web_content))\n",
    "print('Number of integer         = ',len(re.findall('[0-9]',web_content)))\n",
    "print('Number of Charecter       = ',len(re.findall('[\\D]',web_content)))\n",
    "print('Number of space = ', len(re.findall('\\s',web_content)))\n",
    "print('Number of charecter excluding space = ',len(re.findall('\\S',web_content)))"
   ]
  },
  {
   "cell_type": "code",
   "execution_count": 90,
   "metadata": {},
   "outputs": [
    {
     "name": "stdout",
     "output_type": "stream",
     "text": [
      " \n",
      "abc 123\n",
      "hi 456 hello78\n",
      "thanks\n",
      "\n",
      "Total charecter =   \n",
      "abc 123\n",
      "hi 456 hello78\n",
      "thanks\n",
      "\n",
      "integer  =  ['1', '2', '3', '4', '5', '6', '7', '8']\n",
      "Charecter=  [' ', '\\n', 'a', 'b', 'c', ' ', '\\n', 'h', 'i', ' ', ' ', 'h', 'e', 'l', 'l', 'o', '\\n', 't', 'h', 'a', 'n', 'k', 's', '\\n']\n",
      "space =  [' ', '\\n', ' ', '\\n', ' ', ' ', '\\n', '\\n']\n",
      "excluding space =  ['a', 'b', 'c', '1', '2', '3', 'h', 'i', '4', '5', '6', 'h', 'e', 'l', 'l', 'o', '7', '8', 't', 'h', 'a', 'n', 'k', 's']\n"
     ]
    }
   ],
   "source": [
    "print(web_content)\n",
    "print('Total charecter = ',web_content)\n",
    "print('integer  = ',re.findall('[0-9]',web_content))\n",
    "print('Charecter= ',re.findall('[\\D]',web_content))\n",
    "print('space = ', re.findall('\\s',web_content))\n",
    "print('excluding space = ',re.findall('\\S',web_content))"
   ]
  },
  {
   "cell_type": "code",
   "execution_count": 97,
   "metadata": {},
   "outputs": [
    {
     "name": "stdout",
     "output_type": "stream",
     "text": [
      "<re.Match object; span=(0, 1), match='$'>\n"
     ]
    }
   ],
   "source": [
    "print(re.search('\\W','$    & A sai'))"
   ]
  },
  {
   "cell_type": "code",
   "execution_count": 100,
   "metadata": {},
   "outputs": [
    {
     "name": "stdout",
     "output_type": "stream",
     "text": [
      "<re.Match object; span=(0, 0), match=''>\n"
     ]
    }
   ],
   "source": [
    "print(re.search('a*','bcde'))"
   ]
  },
  {
   "cell_type": "code",
   "execution_count": 105,
   "metadata": {},
   "outputs": [
    {
     "name": "stdout",
     "output_type": "stream",
     "text": [
      "<re.Match object; span=(0, 2), match='si'>\n",
      "<re.Match object; span=(0, 4), match='saai'>\n",
      "<re.Match object; span=(0, 5), match='sreei'>\n",
      "None\n"
     ]
    }
   ],
   "source": [
    "# * is zero  or more\n",
    "#select the data which contain strarting s and ending i\n",
    "name1='si'\n",
    "name2='saai'\n",
    "name3='sreei'\n",
    "name4='sreeeeee'\n",
    "print(re.search('^s.*i$',name1))\n",
    "print(re.search('^s.*i$',name2))\n",
    "print(re.search('^s.*i$',name3))\n",
    "print(re.search('^s.*i$',name4))"
   ]
  },
  {
   "cell_type": "code",
   "execution_count": 108,
   "metadata": {},
   "outputs": [
    {
     "name": "stdout",
     "output_type": "stream",
     "text": [
      "<re.Match object; span=(3, 4), match='a'>\n",
      "<re.Match object; span=(3, 5), match='aa'>\n",
      "<re.Match object; span=(3, 9), match='aaaaaa'>\n"
     ]
    }
   ],
   "source": [
    "# + is one or more\n",
    "print(re.search('a+','bbbabaaccaa'))\n",
    "print(re.search('a+','bbbaabaccaa'))\n",
    "print(re.search('a+','bbbaaaaaabccaa'))\n"
   ]
  },
  {
   "cell_type": "markdown",
   "metadata": {},
   "source": [
    "## mODULES"
   ]
  },
  {
   "cell_type": "code",
   "execution_count": 109,
   "metadata": {},
   "outputs": [],
   "source": [
    "import project"
   ]
  },
  {
   "cell_type": "code",
   "execution_count": 110,
   "metadata": {},
   "outputs": [
    {
     "data": {
      "text/plain": [
       "'welcome Sri Rama'"
      ]
     },
     "execution_count": 110,
     "metadata": {},
     "output_type": "execute_result"
    }
   ],
   "source": [
    "project.welcome('Sri Rama')"
   ]
  },
  {
   "cell_type": "code",
   "execution_count": 111,
   "metadata": {},
   "outputs": [
    {
     "data": {
      "text/plain": [
       "79"
      ]
     },
     "execution_count": 111,
     "metadata": {},
     "output_type": "execute_result"
    }
   ],
   "source": [
    "project.add(34,45)"
   ]
  },
  {
   "cell_type": "code",
   "execution_count": 112,
   "metadata": {},
   "outputs": [
    {
     "data": {
      "text/plain": [
       "3.14"
      ]
     },
     "execution_count": 112,
     "metadata": {},
     "output_type": "execute_result"
    }
   ],
   "source": [
    "project.PI"
   ]
  },
  {
   "cell_type": "markdown",
   "metadata": {},
   "source": [
    "# nUMPY"
   ]
  },
  {
   "cell_type": "code",
   "execution_count": 114,
   "metadata": {},
   "outputs": [
    {
     "name": "stdout",
     "output_type": "stream",
     "text": [
      "[[1, 2], [3, 4]]\n",
      "[[3, 4], [4, 5]]\n"
     ]
    }
   ],
   "source": [
    "A=[[1,2],[3,4]]\n",
    "B=[[3,4],[4,5]]\n",
    "print(A)\n",
    "print(B)"
   ]
  },
  {
   "cell_type": "code",
   "execution_count": 115,
   "metadata": {},
   "outputs": [],
   "source": [
    "import numpy as np"
   ]
  },
  {
   "cell_type": "code",
   "execution_count": 116,
   "metadata": {},
   "outputs": [
    {
     "name": "stdout",
     "output_type": "stream",
     "text": [
      "[1 2 3]\n"
     ]
    }
   ],
   "source": [
    "values = [1,2,3]\n",
    "a1 = np.array(values)\n",
    "print(a1)"
   ]
  },
  {
   "cell_type": "code",
   "execution_count": 117,
   "metadata": {},
   "outputs": [
    {
     "data": {
      "text/plain": [
       "(3,)"
      ]
     },
     "execution_count": 117,
     "metadata": {},
     "output_type": "execute_result"
    }
   ],
   "source": [
    "# shap of the array\n",
    "a1.shape"
   ]
  },
  {
   "cell_type": "code",
   "execution_count": 118,
   "metadata": {},
   "outputs": [
    {
     "name": "stdout",
     "output_type": "stream",
     "text": [
      "[[1 2 3]]\n",
      "(1, 3)\n"
     ]
    }
   ],
   "source": [
    "values = [[1,2,3]]\n",
    "a2 = np.array(values)\n",
    "print(a2)\n",
    "print(a2.shape)"
   ]
  },
  {
   "cell_type": "code",
   "execution_count": 120,
   "metadata": {},
   "outputs": [
    {
     "name": "stdout",
     "output_type": "stream",
     "text": [
      "[[1 2]\n",
      " [3 4]]\n",
      "\n",
      "[[2 1]\n",
      " [4 3]]\n"
     ]
    }
   ],
   "source": [
    "v1 = [[1,2],[3,4]]\n",
    "a1 = np.array(v1)\n",
    "v2 = [[2,1],[4,3]]\n",
    "a2 = np.array(v2)\n",
    "print(a1)\n",
    "print()\n",
    "print(a2)"
   ]
  },
  {
   "cell_type": "code",
   "execution_count": 121,
   "metadata": {},
   "outputs": [
    {
     "data": {
      "text/plain": [
       "array([[3, 4],\n",
       "       [5, 6]])"
      ]
     },
     "execution_count": 121,
     "metadata": {},
     "output_type": "execute_result"
    }
   ],
   "source": [
    "a1+2"
   ]
  },
  {
   "cell_type": "code",
   "execution_count": 122,
   "metadata": {},
   "outputs": [
    {
     "data": {
      "text/plain": [
       "array([[1, 2],\n",
       "       [3, 4]])"
      ]
     },
     "execution_count": 122,
     "metadata": {},
     "output_type": "execute_result"
    }
   ],
   "source": [
    "a1"
   ]
  },
  {
   "cell_type": "code",
   "execution_count": 123,
   "metadata": {},
   "outputs": [],
   "source": [
    "a1+=2"
   ]
  },
  {
   "cell_type": "code",
   "execution_count": 124,
   "metadata": {},
   "outputs": [
    {
     "data": {
      "text/plain": [
       "array([[3, 4],\n",
       "       [5, 6]])"
      ]
     },
     "execution_count": 124,
     "metadata": {},
     "output_type": "execute_result"
    }
   ],
   "source": [
    "a1"
   ]
  },
  {
   "cell_type": "code",
   "execution_count": 125,
   "metadata": {},
   "outputs": [
    {
     "data": {
      "text/plain": [
       "array([5, 6])"
      ]
     },
     "execution_count": 125,
     "metadata": {},
     "output_type": "execute_result"
    }
   ],
   "source": [
    "a1[0]\n",
    "a1[1]"
   ]
  },
  {
   "cell_type": "code",
   "execution_count": 126,
   "metadata": {},
   "outputs": [
    {
     "data": {
      "text/plain": [
       "array([3, 4])"
      ]
     },
     "execution_count": 126,
     "metadata": {},
     "output_type": "execute_result"
    }
   ],
   "source": [
    "a1[0]"
   ]
  },
  {
   "cell_type": "code",
   "execution_count": 127,
   "metadata": {},
   "outputs": [
    {
     "data": {
      "text/plain": [
       "array([5, 6])"
      ]
     },
     "execution_count": 127,
     "metadata": {},
     "output_type": "execute_result"
    }
   ],
   "source": [
    "a1[1]"
   ]
  },
  {
   "cell_type": "code",
   "execution_count": 128,
   "metadata": {},
   "outputs": [
    {
     "data": {
      "text/plain": [
       "3"
      ]
     },
     "execution_count": 128,
     "metadata": {},
     "output_type": "execute_result"
    }
   ],
   "source": [
    "a1[0][0]"
   ]
  },
  {
   "cell_type": "code",
   "execution_count": 129,
   "metadata": {},
   "outputs": [],
   "source": [
    "a1[0][0]=10"
   ]
  },
  {
   "cell_type": "code",
   "execution_count": 130,
   "metadata": {},
   "outputs": [
    {
     "data": {
      "text/plain": [
       "10"
      ]
     },
     "execution_count": 130,
     "metadata": {},
     "output_type": "execute_result"
    }
   ],
   "source": [
    "a1[0][0]"
   ]
  },
  {
   "cell_type": "code",
   "execution_count": 131,
   "metadata": {},
   "outputs": [
    {
     "data": {
      "text/plain": [
       "array([[10,  4],\n",
       "       [ 5,  6]])"
      ]
     },
     "execution_count": 131,
     "metadata": {},
     "output_type": "execute_result"
    }
   ],
   "source": [
    "a1"
   ]
  },
  {
   "cell_type": "code",
   "execution_count": 132,
   "metadata": {},
   "outputs": [
    {
     "data": {
      "text/plain": [
       "array([[2, 1],\n",
       "       [4, 3]])"
      ]
     },
     "execution_count": 132,
     "metadata": {},
     "output_type": "execute_result"
    }
   ],
   "source": [
    "\n",
    "a2"
   ]
  },
  {
   "cell_type": "code",
   "execution_count": 133,
   "metadata": {},
   "outputs": [
    {
     "data": {
      "text/plain": [
       "array([[12,  5],\n",
       "       [ 9,  9]])"
      ]
     },
     "execution_count": 133,
     "metadata": {},
     "output_type": "execute_result"
    }
   ],
   "source": [
    "#addition of matrix\n",
    "a1+a2"
   ]
  },
  {
   "cell_type": "code",
   "execution_count": 134,
   "metadata": {},
   "outputs": [
    {
     "data": {
      "text/plain": [
       "array([[8, 3],\n",
       "       [1, 3]])"
      ]
     },
     "execution_count": 134,
     "metadata": {},
     "output_type": "execute_result"
    }
   ],
   "source": [
    "# Sub\n",
    "a1-a2"
   ]
  },
  {
   "cell_type": "code",
   "execution_count": 135,
   "metadata": {},
   "outputs": [
    {
     "data": {
      "text/plain": [
       "array([[20,  4],\n",
       "       [20, 18]])"
      ]
     },
     "execution_count": 135,
     "metadata": {},
     "output_type": "execute_result"
    }
   ],
   "source": [
    "# multiplication but not matix multiplication\n",
    "# this is item to item\n",
    "a1*a2"
   ]
  },
  {
   "cell_type": "code",
   "execution_count": 138,
   "metadata": {},
   "outputs": [
    {
     "data": {
      "text/plain": [
       "array([[36, 22],\n",
       "       [34, 23]])"
      ]
     },
     "execution_count": 138,
     "metadata": {},
     "output_type": "execute_result"
    }
   ],
   "source": [
    "# Actual Matix Multiplication need to use the .dot()\n",
    "a1.dot(a2)"
   ]
  },
  {
   "cell_type": "code",
   "execution_count": 139,
   "metadata": {},
   "outputs": [
    {
     "data": {
      "text/plain": [
       "array([[10,  4],\n",
       "       [ 5,  6]])"
      ]
     },
     "execution_count": 139,
     "metadata": {},
     "output_type": "execute_result"
    }
   ],
   "source": [
    "a1"
   ]
  },
  {
   "cell_type": "code",
   "execution_count": 140,
   "metadata": {},
   "outputs": [
    {
     "data": {
      "text/plain": [
       "array([[2, 1],\n",
       "       [4, 3]])"
      ]
     },
     "execution_count": 140,
     "metadata": {},
     "output_type": "execute_result"
    }
   ],
   "source": [
    "a2"
   ]
  },
  {
   "cell_type": "code",
   "execution_count": null,
   "metadata": {},
   "outputs": [],
   "source": []
  }
 ],
 "metadata": {
  "kernelspec": {
   "display_name": "Python 3",
   "language": "python",
   "name": "python3"
  },
  "language_info": {
   "codemirror_mode": {
    "name": "ipython",
    "version": 3
   },
   "file_extension": ".py",
   "mimetype": "text/x-python",
   "name": "python",
   "nbconvert_exporter": "python",
   "pygments_lexer": "ipython3",
   "version": "3.7.3"
  }
 },
 "nbformat": 4,
 "nbformat_minor": 2
}
