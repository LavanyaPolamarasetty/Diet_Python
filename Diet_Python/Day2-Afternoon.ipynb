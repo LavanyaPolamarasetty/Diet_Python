{
 "cells": [
  {
   "cell_type": "code",
   "execution_count": null,
   "metadata": {},
   "outputs": [
    {
     "name": "stdout",
     "output_type": "stream",
     "text": [
      "0\n",
      "1\n",
      "2\n",
      "3\n",
      "4\n",
      "5\n",
      "6\n"
     ]
    }
   ],
   "source": [
    "i=0\n",
    "while i<10:\n",
    "    if i==7:\n",
    "        continue\n",
    "        print(i,end='')\n",
    "    else:\n",
    "        print(i)\n",
    "    i=i+1"
   ]
  },
  {
   "cell_type": "code",
   "execution_count": 7,
   "metadata": {},
   "outputs": [
    {
     "name": "stdout",
     "output_type": "stream",
     "text": [
      "P"
     ]
    }
   ],
   "source": [
    "k='APSSDC'\n",
    "for i in k:\n",
    "    if i=='P':\n",
    "        print(i,end='')\n"
   ]
  },
  {
   "cell_type": "code",
   "execution_count": 12,
   "metadata": {},
   "outputs": [
    {
     "name": "stdout",
     "output_type": "stream",
     "text": [
      "0246810"
     ]
    }
   ],
   "source": [
    "for i in range(0,11,2):\n",
    "    print(i,end='')"
   ]
  },
  {
   "cell_type": "code",
   "execution_count": 1,
   "metadata": {},
   "outputs": [
    {
     "name": "stdout",
     "output_type": "stream",
     "text": [
      "0\n",
      "1\n",
      "2\n",
      "3\n",
      "4\n"
     ]
    }
   ],
   "source": [
    "for i in range(10):\n",
    "    if i==5:\n",
    "        break\n",
    "    else:\n",
    "        print(i)"
   ]
  },
  {
   "cell_type": "code",
   "execution_count": 2,
   "metadata": {},
   "outputs": [
    {
     "name": "stdout",
     "output_type": "stream",
     "text": [
      "0\n",
      "1\n",
      "2\n",
      "3\n",
      "4\n",
      "5\n",
      "6\n",
      "8\n",
      "9\n"
     ]
    }
   ],
   "source": [
    "for i in range(0,10):\n",
    "    if i==7:\n",
    "        continue\n",
    "    else:\n",
    "        print(i) "
   ]
  },
  {
   "cell_type": "code",
   "execution_count": 3,
   "metadata": {},
   "outputs": [
    {
     "name": "stdout",
     "output_type": "stream",
     "text": [
      "0\n",
      "1\n",
      "2\n",
      "3\n",
      "4\n",
      "5\n",
      "6\n",
      "8\n",
      "9\n"
     ]
    }
   ],
   "source": [
    "for i in range(0,10):\n",
    "    if i==7:\n",
    "        pass\n",
    "    else:\n",
    "        print(i)"
   ]
  },
  {
   "cell_type": "code",
   "execution_count": 17,
   "metadata": {},
   "outputs": [
    {
     "name": "stdout",
     "output_type": "stream",
     "text": [
      "171\n",
      "True Pali\n"
     ]
    }
   ],
   "source": [
    "# MOM\n",
    "# DAD\n",
    "# MADAM\n",
    "# 151\n",
    "# 171\n",
    "# 141\n",
    "pt='171'\n",
    "#print(pt)\n",
    "s2=pt[::-1]\n",
    "print(s2)\n",
    "if s2==pt:\n",
    "    print('True Pali')\n",
    "else:\n",
    "    print('False Not pali')\n"
   ]
  },
  {
   "cell_type": "code",
   "execution_count": 18,
   "metadata": {},
   "outputs": [
    {
     "name": "stdout",
     "output_type": "stream",
     "text": [
      "10\n",
      "0 1 2 3 4 5 6 7 8 9 10 \n",
      "\n",
      "0 1 2 3 4 5 6 7 8 9 10 "
     ]
    }
   ],
   "source": [
    "# write a program to print n natural numbers using for and while\n",
    "n = int(input())\n",
    "for i in range(n+1):\n",
    "    print(i,end = ' ')\n",
    "print('\\n')\n",
    "i = 0\n",
    "while i<=n:\n",
    "    print(i,end=' ')\n",
    "    i+=1"
   ]
  },
  {
   "cell_type": "code",
   "execution_count": 22,
   "metadata": {},
   "outputs": [
    {
     "name": "stdout",
     "output_type": "stream",
     "text": [
      "0 2 4 6 8 10 12 14 16 18 20 \n",
      "\n",
      "0 2 4 6 8 10 "
     ]
    }
   ],
   "source": [
    "# write a program to print alternate numbers in a given range\n",
    "for i in range(0,21,2):\n",
    "    print(i,end=' ')\n",
    "print('\\n')\n",
    "i = 0\n",
    "while i<=10:\n",
    "    print(i,end=' ')\n",
    "    i+=2"
   ]
  },
  {
   "cell_type": "code",
   "execution_count": 23,
   "metadata": {},
   "outputs": [
    {
     "name": "stdout",
     "output_type": "stream",
     "text": [
      "12\n",
      "0 1 8 27 64 125 216 343 512 729 1000 1331 "
     ]
    }
   ],
   "source": [
    "# write a program to print the cubes of numbers in a given range\n",
    "n = int(input())\n",
    "for i in range(n):\n",
    "    print(i**3,end=' ')\n"
   ]
  },
  {
   "cell_type": "code",
   "execution_count": 24,
   "metadata": {},
   "outputs": [
    {
     "name": "stdout",
     "output_type": "stream",
     "text": [
      "12\n",
      "sum of all numbers: 66\n",
      "average: 5.5\n"
     ]
    }
   ],
   "source": [
    "# write a program to print the sum of numbers in a given range\n",
    "n = int(input())\n",
    "total = 0\n",
    "for i in range(n):\n",
    "    total = total+i\n",
    "print('sum of all numbers:',total)\n",
    "print('average:',total/n)"
   ]
  },
  {
   "cell_type": "code",
   "execution_count": 25,
   "metadata": {},
   "outputs": [
    {
     "name": "stdout",
     "output_type": "stream",
     "text": [
      "6\n",
      "perfect number\n"
     ]
    }
   ],
   "source": [
    "# write a program to check given number is perfect number or not\n",
    "n = int(input())\n",
    "s = 0\n",
    "for i in range(1,n):\n",
    "    if n%i==0:\n",
    "        s=s+i\n",
    "if s==n:\n",
    "    print('perfect number')\n",
    "else:\n",
    "    print('not a perfect number')\n",
    "    "
   ]
  },
  {
   "cell_type": "code",
   "execution_count": 27,
   "metadata": {},
   "outputs": [
    {
     "data": {
      "text/plain": [
       "4"
      ]
     },
     "execution_count": 27,
     "metadata": {},
     "output_type": "execute_result"
    }
   ],
   "source": [
    "# write a program to check given number is armstrong or not\n",
    "n = 1234\n",
    "len(str(n)) # number of digits\n",
    "# 1234 --> 1^4 + 2^4 +3^4 + 4^4\n",
    "# 124 --> 1^3 + 2^3 + 4^3"
   ]
  },
  {
   "cell_type": "code",
   "execution_count": 29,
   "metadata": {},
   "outputs": [
    {
     "name": "stdout",
     "output_type": "stream",
     "text": [
      "153\n",
      "armstrong number\n"
     ]
    }
   ],
   "source": [
    "n = input() # '153'\n",
    "digits = len(n) # digits = 3\n",
    "total = 0\n",
    "for i in n:\n",
    "    total = total + int(i)**(digits)\n",
    "if total == int(n):\n",
    "    print('armstrong number')\n",
    "else:\n",
    "    print('not an armstrong number')"
   ]
  },
  {
   "cell_type": "code",
   "execution_count": 30,
   "metadata": {},
   "outputs": [
    {
     "name": "stdout",
     "output_type": "stream",
     "text": [
      "string\n",
      "s\n",
      "t\n",
      "r\n",
      "i\n",
      "n\n",
      "g\n"
     ]
    }
   ],
   "source": [
    "n=input()\n",
    "for i in n:\n",
    "    print(i)"
   ]
  },
  {
   "cell_type": "markdown",
   "metadata": {},
   "source": [
    "## types of Functions\n",
    "### Without arg& without return value\n",
    "### without arg& with return value\n",
    "### with arg& without return value\n",
    "### with arg & with return value"
   ]
  },
  {
   "cell_type": "code",
   "execution_count": 33,
   "metadata": {},
   "outputs": [
    {
     "name": "stdout",
     "output_type": "stream",
     "text": [
      "30\n"
     ]
    }
   ],
   "source": [
    "# Without arg& without return value\n",
    "def add():\n",
    "    a=10\n",
    "    b=20\n",
    "    c=a+b\n",
    "    print(c)\n",
    "add()"
   ]
  },
  {
   "cell_type": "code",
   "execution_count": 37,
   "metadata": {},
   "outputs": [
    {
     "data": {
      "text/plain": [
       "50"
      ]
     },
     "execution_count": 37,
     "metadata": {},
     "output_type": "execute_result"
    }
   ],
   "source": [
    "# Without arg& without return value\n",
    "def mul(a,b):\n",
    "    c=a*b\n",
    "    print(c)\n",
    "mul(5,10)"
   ]
  },
  {
   "cell_type": "code",
   "execution_count": 39,
   "metadata": {},
   "outputs": [
    {
     "name": "stdout",
     "output_type": "stream",
     "text": [
      "calling outside function 30\n"
     ]
    }
   ],
   "source": [
    "#without arg& with return value\n",
    "def summ1():\n",
    "    a=10\n",
    "    b=20\n",
    "    summ=a+b\n",
    "    return summ\n",
    "print('calling outside function',summ1())"
   ]
  },
  {
   "cell_type": "code",
   "execution_count": 42,
   "metadata": {},
   "outputs": [
    {
     "name": "stdout",
     "output_type": "stream",
     "text": [
      "Outside function 100\n"
     ]
    }
   ],
   "source": [
    "#with arg& with return value\n",
    "def ad(a,b):\n",
    "    return a+b\n",
    "print('Outside function',ad(30,70))"
   ]
  },
  {
   "cell_type": "code",
   "execution_count": null,
   "metadata": {},
   "outputs": [],
   "source": []
  }
 ],
 "metadata": {
  "kernelspec": {
   "display_name": "Python 3",
   "language": "python",
   "name": "python3"
  },
  "language_info": {
   "codemirror_mode": {
    "name": "ipython",
    "version": 3
   },
   "file_extension": ".py",
   "mimetype": "text/x-python",
   "name": "python",
   "nbconvert_exporter": "python",
   "pygments_lexer": "ipython3",
   "version": "3.7.3"
  }
 },
 "nbformat": 4,
 "nbformat_minor": 2
}
