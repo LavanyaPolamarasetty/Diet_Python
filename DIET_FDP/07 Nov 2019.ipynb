{
 "cells": [
  {
   "cell_type": "markdown",
   "metadata": {},
   "source": [
    "## Find the name of student who got highest marks   "
   ]
  },
  {
   "cell_type": "markdown",
   "metadata": {},
   "source": [
    "students={'sai':[10,30,20],'ram':[30,50,10],'lakshmi':[1,2,3],'raju:[30,50,10]}"
   ]
  },
  {
   "cell_type": "code",
   "execution_count": 11,
   "metadata": {},
   "outputs": [
    {
     "name": "stdout",
     "output_type": "stream",
     "text": [
      "Highest Marks   90\n",
      "ram\n",
      "raju\n"
     ]
    }
   ],
   "source": [
    "   \n",
    "#to find highest marks\n",
    "highest = 0\n",
    "for name in students:\n",
    "    marks = students[name]\n",
    "    total=sum(marks)\n",
    "    if highest<total:\n",
    "        highest=total   \n",
    "print('Highest Marks  ',highest)\n",
    "# to find Name\n",
    "for name in students:\n",
    "    marks = students[name]\n",
    "    total=sum(marks)\n",
    "    if total==highest:\n",
    "        print(name)\n"
   ]
  },
  {
   "cell_type": "code",
   "execution_count": 13,
   "metadata": {},
   "outputs": [
    {
     "name": "stdout",
     "output_type": "stream",
     "text": [
      "[('sai', [10, 30, 20]), ('ram', [30, 50, 10]), ('lakshmi', [1, 2, 3]), ('raju', [30, 50, 10])]\n"
     ]
    }
   ],
   "source": [
    "students={'sai':[10,30,20],'ram':[30,50,10],'lakshmi':[1,2,3],'raju':[30,50,10]}\n",
    "students_list = list(students.items())\n",
    "print(students_list)"
   ]
  },
  {
   "cell_type": "code",
   "execution_count": 14,
   "metadata": {},
   "outputs": [],
   "source": [
    "students_list.sort(key=lambda x:sum(x[1]),reverse=True)"
   ]
  },
  {
   "cell_type": "code",
   "execution_count": 16,
   "metadata": {},
   "outputs": [
    {
     "name": "stdout",
     "output_type": "stream",
     "text": [
      "[('ram', [30, 50, 10]), ('raju', [30, 50, 10]), ('sai', [10, 30, 20]), ('lakshmi', [1, 2, 3])]\n"
     ]
    }
   ],
   "source": [
    "print(students_list)"
   ]
  },
  {
   "cell_type": "code",
   "execution_count": 18,
   "metadata": {},
   "outputs": [],
   "source": [
    "highest = sum(students_list[0][1])"
   ]
  },
  {
   "cell_type": "code",
   "execution_count": 19,
   "metadata": {},
   "outputs": [
    {
     "name": "stdout",
     "output_type": "stream",
     "text": [
      "90\n"
     ]
    }
   ],
   "source": [
    "print(highest)"
   ]
  },
  {
   "cell_type": "code",
   "execution_count": 22,
   "metadata": {},
   "outputs": [
    {
     "name": "stdout",
     "output_type": "stream",
     "text": [
      "[('ram', [30, 50, 10]), ('raju', [30, 50, 10])]\n"
     ]
    }
   ],
   "source": [
    "print(list(filter(lambda x:sum(x[1])==90,students_list)))"
   ]
  },
  {
   "cell_type": "code",
   "execution_count": 23,
   "metadata": {},
   "outputs": [
    {
     "name": "stdout",
     "output_type": "stream",
     "text": [
      "[('sai', [10, 30, 20]), ('ram', [30, 50, 10]), ('lakshmi', [1, 2, 3]), ('raju', [30, 50, 10])]\n",
      "[('ram', [30, 50, 10]), ('raju', [30, 50, 10]), ('sai', [10, 30, 20]), ('lakshmi', [1, 2, 3])]\n",
      "[('ram', [30, 50, 10]), ('raju', [30, 50, 10])]\n"
     ]
    }
   ],
   "source": [
    "students={'sai':[10,30,20],'ram':[30,50,10],'lakshmi':[1,2,3],'raju':[30,50,10]}\n",
    "students_list = list(students.items())\n",
    "print(students_list)\n",
    "students_list.sort(key=lambda x:sum(x[1]),reverse=True)\n",
    "print(students_list)\n",
    "highest = sum(students_list[0][1])\n",
    "print(list(filter(lambda x:sum(x[1])==90,students_list)))"
   ]
  },
  {
   "cell_type": "code",
   "execution_count": 1,
   "metadata": {},
   "outputs": [
    {
     "name": "stdout",
     "output_type": "stream",
     "text": [
      "[1, 1, 1, 1, 1, 1, 1, 1, 1, 1, 1]\n"
     ]
    }
   ],
   "source": [
    "\n",
    "numbers=[1for each in range(11)]\n",
    "print(numbers)"
   ]
  },
  {
   "cell_type": "code",
   "execution_count": 30,
   "metadata": {},
   "outputs": [
    {
     "name": "stdout",
     "output_type": "stream",
     "text": [
      "[1, 2, 3, 4, 5, 6, 7, 8, 9, 10]\n"
     ]
    }
   ],
   "source": [
    "num = [each for each in range(1,11)]\n",
    "print(num)"
   ]
  },
  {
   "cell_type": "code",
   "execution_count": 31,
   "metadata": {},
   "outputs": [
    {
     "name": "stdout",
     "output_type": "stream",
     "text": [
      "[2, 4, 6, 8, 10]\n"
     ]
    }
   ],
   "source": [
    "num = [each for each in range(1,11) if each%2==0]\n",
    "print(num)"
   ]
  },
  {
   "cell_type": "code",
   "execution_count": 32,
   "metadata": {},
   "outputs": [
    {
     "name": "stdout",
     "output_type": "stream",
     "text": [
      "[1, 3, 5, 7, 9]\n"
     ]
    }
   ],
   "source": [
    "num3 = [each for each in range(1,11) if each%2!=0]\n",
    "print(num3)"
   ]
  },
  {
   "cell_type": "code",
   "execution_count": 33,
   "metadata": {},
   "outputs": [],
   "source": [
    "name = 'python programming'\n",
    "namelist=list(name)"
   ]
  },
  {
   "cell_type": "code",
   "execution_count": 34,
   "metadata": {},
   "outputs": [
    {
     "name": "stdout",
     "output_type": "stream",
     "text": [
      "['p', 'y', 't', 'h', 'o', 'n', ' ', 'p', 'r', 'o', 'g', 'r', 'a', 'm', 'm', 'i', 'n', 'g']\n"
     ]
    }
   ],
   "source": [
    "print(namelist)"
   ]
  },
  {
   "cell_type": "code",
   "execution_count": 35,
   "metadata": {},
   "outputs": [
    {
     "name": "stdout",
     "output_type": "stream",
     "text": [
      "18\n",
      "17\n"
     ]
    }
   ],
   "source": [
    "count=0\n",
    "print(len(namelist))\n",
    "for each in namelist:\n",
    "    if each!=' ':\n",
    "        count+=1\n",
    "print(count)\n",
    "        "
   ]
  },
  {
   "cell_type": "code",
   "execution_count": 36,
   "metadata": {},
   "outputs": [
    {
     "name": "stdout",
     "output_type": "stream",
     "text": [
      "22\n"
     ]
    }
   ],
   "source": [
    "name2='Python programming lab'\n",
    "print(len(name2))"
   ]
  },
  {
   "cell_type": "code",
   "execution_count": 38,
   "metadata": {},
   "outputs": [
    {
     "name": "stdout",
     "output_type": "stream",
     "text": [
      "['P', 'y', 't', 'h', 'o', 'n', 'p', 'r', 'o', 'g', 'r', 'a', 'm', 'm', 'i', 'n', 'g', 'l', 'a', 'b']\n",
      "20\n"
     ]
    }
   ],
   "source": [
    "output=[i for i in name2 if i!=' ']\n",
    "print(output)\n",
    "print(len(output))"
   ]
  },
  {
   "cell_type": "code",
   "execution_count": 39,
   "metadata": {},
   "outputs": [
    {
     "name": "stdout",
     "output_type": "stream",
     "text": [
      "Python programming Lab\n",
      "22\n",
      "['o', 'p', 'o']\n",
      "3\n"
     ]
    }
   ],
   "source": [
    "name3='Python programming Lab'\n",
    "print(name3)\n",
    "print(len(name3))\n",
    "output=[i for i in name3 if i!='p' or i!='o']\n",
    "# or\n",
    "output=[i for i in name3 if i in ['p','o']]\n",
    "print(output)\n",
    "print(len(output))\n",
    "    "
   ]
  },
  {
   "cell_type": "code",
   "execution_count": 40,
   "metadata": {},
   "outputs": [
    {
     "name": "stdout",
     "output_type": "stream",
     "text": [
      "Python programming Lab\n",
      "22\n",
      "['P', 'y', 't', 'h', 'n', ' ', 'r', 'g', 'r', 'a', 'm', 'm', 'i', 'n', 'g', ' ', 'L', 'a', 'b']\n",
      "19\n"
     ]
    }
   ],
   "source": [
    "name3='Python programming Lab'\n",
    "print(name3)\n",
    "print(len(name3))\n",
    "# output=[i for i in name3 if i!='p' or i!='o']\n",
    "# or\n",
    "output=[i for i in name3 if i not in ['p','o']]\n",
    "print(output)\n",
    "print(len(output))\n",
    "    "
   ]
  },
  {
   "cell_type": "code",
   "execution_count": 41,
   "metadata": {},
   "outputs": [
    {
     "name": "stdout",
     "output_type": "stream",
     "text": [
      "['1', '1', 'c', 's', 'e', '1', '2', '3']\n"
     ]
    }
   ],
   "source": [
    "nu ='11cse123'\n",
    "nulist=list(nu)\n",
    "print(nulist)"
   ]
  },
  {
   "cell_type": "code",
   "execution_count": null,
   "metadata": {},
   "outputs": [],
   "source": []
  },
  {
   "cell_type": "code",
   "execution_count": 45,
   "metadata": {},
   "outputs": [
    {
     "name": "stdout",
     "output_type": "stream",
     "text": [
      "8\n"
     ]
    }
   ],
   "source": [
    "n='11cse123'\n",
    "nulist=list(n)\n",
    "s=0\n",
    "for each in nulist:\n",
    "    if each.isdigit():\n",
    "        s+=int(each)\n",
    "print(s)\n",
    "        "
   ]
  },
  {
   "cell_type": "code",
   "execution_count": 51,
   "metadata": {},
   "outputs": [
    {
     "name": "stdout",
     "output_type": "stream",
     "text": [
      "8\n"
     ]
    }
   ],
   "source": [
    "n1='11cse123'\n",
    "s=[int(i) for i in n1 if i.isdigit()]\n",
    "print(sum(s))"
   ]
  },
  {
   "cell_type": "code",
   "execution_count": 52,
   "metadata": {},
   "outputs": [
    {
     "name": "stdout",
     "output_type": "stream",
     "text": [
      "{0: 0, 1: 1, 2: 4, 3: 9, 4: 16, 5: 25}\n"
     ]
    }
   ],
   "source": [
    "dc_square={i:i*i for i in range(6)}\n",
    "print(dc_square)"
   ]
  },
  {
   "cell_type": "code",
   "execution_count": 53,
   "metadata": {},
   "outputs": [
    {
     "name": "stdout",
     "output_type": "stream",
     "text": [
      "{'apple': 3, 'orange': 2, 'banana': 1}\n"
     ]
    }
   ],
   "source": [
    "words=['apple','orange','banana','apple','apple','orange','brinjal']\n",
    "freq={word:words.count(word) for word in words}\n",
    "print(freq)"
   ]
  },
  {
   "cell_type": "code",
   "execution_count": 55,
   "metadata": {},
   "outputs": [
    {
     "name": "stdout",
     "output_type": "stream",
     "text": [
      "{'R', 'm', 'i', 'S', ' ', 'a', 'r'}\n"
     ]
    }
   ],
   "source": [
    "name='Sri Ramaa'\n",
    "unique={item for item in name}\n",
    "print(unique)"
   ]
  },
  {
   "cell_type": "code",
   "execution_count": 18,
   "metadata": {},
   "outputs": [
    {
     "name": "stdout",
     "output_type": "stream",
     "text": [
      "{'orange', 'banana', 'apple'}\n",
      "3\n"
     ]
    }
   ],
   "source": [
    "words=['apple','banana','apple','orange']\n",
    "unique={item for item in words}\n",
    "print(unique)\n",
    "print(len(unique))"
   ]
  },
  {
   "cell_type": "code",
   "execution_count": 17,
   "metadata": {},
   "outputs": [
    {
     "name": "stdout",
     "output_type": "stream",
     "text": [
      "636 orange\n",
      "609 banana\n",
      "530 apple\n"
     ]
    },
    {
     "data": {
      "text/plain": [
       "{'apple', 'banana', 'orange'}"
      ]
     },
     "execution_count": 17,
     "metadata": {},
     "output_type": "execute_result"
    }
   ],
   "source": [
    "s = {2,3,89,5,'A'}\n",
    "t = {'apple','banana','apple','orange'}\n",
    "for i in t:\n",
    "    c=0\n",
    "    for j in i:\n",
    "        c = c+ord(j)\n",
    "    print(c,i)\n",
    "t"
   ]
  },
  {
   "cell_type": "code",
   "execution_count": 65,
   "metadata": {},
   "outputs": [
    {
     "name": "stdout",
     "output_type": "stream",
     "text": [
      "[(1, 1, 1), (2, 4, 8), (3, 9, 27), (4, 16, 64), (5, 25, 125)]\n"
     ]
    }
   ],
   "source": [
    "n=[(each,each**2,each**3) for each in range(1,6) ]\n",
    "print(n)"
   ]
  },
  {
   "cell_type": "code",
   "execution_count": 77,
   "metadata": {},
   "outputs": [
    {
     "name": "stdout",
     "output_type": "stream",
     "text": [
      "[(1,), (1, 2), (1, 2, 3), (1, 2, 3, 4), (1, 2, 3, 4, 5)]\n"
     ]
    }
   ],
   "source": [
    "n=[tuple(range(1,each+1)) for each in range(1,6)]\n",
    "print(n)"
   ]
  },
  {
   "cell_type": "markdown",
   "metadata": {},
   "source": [
    "## Files"
   ]
  },
  {
   "cell_type": "code",
   "execution_count": 81,
   "metadata": {
    "collapsed": true
   },
   "outputs": [
    {
     "name": "stdout",
     "output_type": "stream",
     "text": [
      "line1\n",
      "line2\n",
      "line3\n",
      "line4  line 5\n"
     ]
    }
   ],
   "source": [
    "fh=open('book.txt','r')\n",
    "data=fh.read()\n",
    "print(data)\n",
    "fh.close()"
   ]
  },
  {
   "cell_type": "code",
   "execution_count": 84,
   "metadata": {},
   "outputs": [],
   "source": [
    "fh=open('book1.txt','w')\n",
    "data='hai ra mama'\n",
    "fh.write(data)\n",
    "fh.close()"
   ]
  },
  {
   "cell_type": "code",
   "execution_count": 92,
   "metadata": {},
   "outputs": [],
   "source": [
    "fh1=open('students.txt','r')\n",
    "fh2=open('report1.txt','w')\n",
    "fh2.write(fh1.read())\n",
    "fh1.close()\n",
    "fh2.close()"
   ]
  },
  {
   "cell_type": "code",
   "execution_count": 94,
   "metadata": {
    "collapsed": true
   },
   "outputs": [
    {
     "name": "stdout",
     "output_type": "stream",
     "text": [
      "Old Data:  hai ra mama\n"
     ]
    }
   ],
   "source": [
    "fh=open('book.txt','r')\n",
    "print('Old Data: ',fh.read())\n",
    "fh.close()"
   ]
  },
  {
   "cell_type": "code",
   "execution_count": 96,
   "metadata": {
    "collapsed": true
   },
   "outputs": [
    {
     "name": "stdout",
     "output_type": "stream",
     "text": [
      "Enter Data when are you coming \n"
     ]
    }
   ],
   "source": [
    "fh=open('book.txt','a')\n",
    "data=input(\"Enter Data\")\n",
    "fh.write(data)\n",
    "fh.close()"
   ]
  },
  {
   "cell_type": "code",
   "execution_count": 97,
   "metadata": {
    "collapsed": true
   },
   "outputs": [
    {
     "name": "stdout",
     "output_type": "stream",
     "text": [
      "name     python     c     java\n",
      "\n",
      "ayyappa    90       70     60\n",
      "\n",
      "lakshmi    70       60     30\n",
      "\n",
      "ram        90       90     80\n",
      "\n",
      "ldfjksadklfsakdjf\n",
      "\n",
      "dlkflasdfj\n",
      "\n"
     ]
    }
   ],
   "source": [
    "fh=open('students.txt','r')\n",
    "for line in fh:\n",
    "    print(line)\n",
    "fh.close()"
   ]
  },
  {
   "cell_type": "code",
   "execution_count": 98,
   "metadata": {
    "collapsed": true
   },
   "outputs": [
    {
     "name": "stdout",
     "output_type": "stream",
     "text": [
      "Number of line : 6\n"
     ]
    }
   ],
   "source": [
    "fh=open('students.txt','r')\n",
    "count=0\n",
    "for line in fh:\n",
    "    count+=1\n",
    "    #print(line)\n",
    "print('Number of line :',count)\n",
    "fh.close()"
   ]
  },
  {
   "cell_type": "code",
   "execution_count": 100,
   "metadata": {
    "collapsed": true
   },
   "outputs": [
    {
     "name": "stdout",
     "output_type": "stream",
     "text": [
      "Line Number : 1 name     python     c     java\n",
      "\n",
      "Line Number : 2 ayyappa    90       70     60\n",
      "\n",
      "Line Number : 3 lakshmi    70       60     30\n",
      "\n",
      "Line Number : 4 ram        90       90     80\n"
     ]
    }
   ],
   "source": [
    "fh=open('students.txt','r')\n",
    "count=0\n",
    "for line in fh:\n",
    "    count+=1\n",
    "    print('Line Number :',count,line)\n",
    "fh.close()"
   ]
  },
  {
   "cell_type": "code",
   "execution_count": 110,
   "metadata": {
    "collapsed": true
   },
   "outputs": [
    {
     "name": "stdout",
     "output_type": "stream",
     "text": [
      "name\n",
      "ayyappa\n",
      "lakshmi\n",
      "ram\n"
     ]
    }
   ],
   "source": [
    "fh=open('students.txt','r')\n",
    "for line in fh:\n",
    "    words=line.split()\n",
    "    name=words[0]\n",
    "    print(name)\n",
    "fh.close()"
   ]
  },
  {
   "cell_type": "code",
   "execution_count": 117,
   "metadata": {
    "collapsed": true
   },
   "outputs": [
    {
     "name": "stdout",
     "output_type": "stream",
     "text": [
      "['python', 'c', 'java']\n",
      "['90', '70', '60']\n",
      "['70', '60', '30']\n",
      "['90', '90', '80']\n"
     ]
    }
   ],
   "source": [
    "fh=open('students.txt','r')\n",
    "for line in fh:\n",
    "    words=line.split()\n",
    "    name=words[0]\n",
    "    marks=words[1:]\n",
    "    print(marks)\n",
    "fh.close()"
   ]
  },
  {
   "cell_type": "code",
   "execution_count": 120,
   "metadata": {
    "collapsed": true
   },
   "outputs": [
    {
     "name": "stdout",
     "output_type": "stream",
     "text": [
      "['90', '70', '60']\n",
      "['70', '60', '30']\n",
      "['90', '90', '80']\n"
     ]
    }
   ],
   "source": [
    "fh=open('students.txt','r')\n",
    "count=0\n",
    "for line in fh:\n",
    "    count+=1\n",
    "    if count!=1:\n",
    "        words=line.split()\n",
    "        name=words[0]\n",
    "        marks=words[1:]\n",
    "        print(marks)\n",
    "fh.close()"
   ]
  },
  {
   "cell_type": "code",
   "execution_count": 132,
   "metadata": {
    "collapsed": true
   },
   "outputs": [
    {
     "name": "stdout",
     "output_type": "stream",
     "text": [
      "220\n",
      "160\n",
      "260\n"
     ]
    }
   ],
   "source": [
    "fh=open('students.txt','r')\n",
    "count=0\n",
    "for line in fh:\n",
    "    count+=1\n",
    "    if count!=1:\n",
    "        words=line.split()\n",
    "        marks=words[1:]\n",
    "        tot=sum(list(map(int,marks)))\n",
    "        print(tot)\n",
    "fh.close()"
   ]
  },
  {
   "cell_type": "code",
   "execution_count": 133,
   "metadata": {},
   "outputs": [
    {
     "name": "stdout",
     "output_type": "stream",
     "text": [
      "srirama\n"
     ]
    }
   ],
   "source": [
    "fn='sri'\n",
    "ln='rama'\n",
    "print(fn+ln)"
   ]
  },
  {
   "cell_type": "code",
   "execution_count": 140,
   "metadata": {},
   "outputs": [],
   "source": [
    "fh=open('students.txt','r')\n",
    "fh2=open('report.txt','w')\n",
    "count=0\n",
    "for line in fh:\n",
    "    count+=1\n",
    "    line=line.rstrip()\n",
    "    if count==1:\n",
    "        fh2.write(line+'   Total\\n')\n",
    "    if count!=1:\n",
    "        words=line.split()\n",
    "        marks=words[1:]\n",
    "        tot=sum(list(map(int,marks)))\n",
    "        fh2.write(line+'      '+ str(tot)+'\\n')\n",
    "fh.close()\n",
    "fh2.close()"
   ]
  },
  {
   "cell_type": "code",
   "execution_count": null,
   "metadata": {},
   "outputs": [],
   "source": [
    " "
   ]
  }
 ],
 "metadata": {
  "kernelspec": {
   "display_name": "Python 3",
   "language": "python",
   "name": "python3"
  },
  "language_info": {
   "codemirror_mode": {
    "name": "ipython",
    "version": 3
   },
   "file_extension": ".py",
   "mimetype": "text/x-python",
   "name": "python",
   "nbconvert_exporter": "python",
   "pygments_lexer": "ipython3",
   "version": "3.7.3"
  }
 },
 "nbformat": 4,
 "nbformat_minor": 2
}
