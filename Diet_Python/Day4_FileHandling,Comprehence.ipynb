{
 "cells": [
  {
   "cell_type": "markdown",
   "metadata": {},
   "source": [
    "# Day Objectives\n",
    "\n",
    "### Packages\n",
    "\n",
    "### File handling\n",
    "\n",
    "    A. Read mode\n",
    "    \n",
    "    B. Write mode\n",
    "    \n",
    "    C. Append mode\n"
   ]
  },
  {
   "cell_type": "code",
   "execution_count": 1,
   "metadata": {},
   "outputs": [
    {
     "data": {
      "text/plain": [
       "57"
      ]
     },
     "execution_count": 1,
     "metadata": {},
     "output_type": "execute_result"
    }
   ],
   "source": [
    "# collection of modules\n",
    "from packages import module\n",
    "module.add(23,34)"
   ]
  },
  {
   "cell_type": "code",
   "execution_count": 2,
   "metadata": {},
   "outputs": [
    {
     "data": {
      "text/plain": [
       "300"
      ]
     },
     "execution_count": 2,
     "metadata": {},
     "output_type": "execute_result"
    }
   ],
   "source": [
    "from packages import module\n",
    "module.add(100,200)"
   ]
  },
  {
   "cell_type": "code",
   "execution_count": 3,
   "metadata": {},
   "outputs": [],
   "source": [
    "from packages import module\n"
   ]
  },
  {
   "cell_type": "code",
   "execution_count": 4,
   "metadata": {},
   "outputs": [
    {
     "name": "stdout",
     "output_type": "stream",
     "text": [
      "Not a Leap\n"
     ]
    }
   ],
   "source": [
    "module.isLeapYear(35)"
   ]
  },
  {
   "cell_type": "code",
   "execution_count": 5,
   "metadata": {},
   "outputs": [],
   "source": [
    "def isLeapYear(year):\n",
    "    if (year%400 == 0) or (year%4 == 0 and year%100 != 0):\n",
    "        return 1\n",
    "    else:\n",
    "        return 0"
   ]
  },
  {
   "cell_type": "code",
   "execution_count": 6,
   "metadata": {},
   "outputs": [
    {
     "data": {
      "text/plain": [
       "1"
      ]
     },
     "execution_count": 6,
     "metadata": {},
     "output_type": "execute_result"
    }
   ],
   "source": [
    "isLeapYear(2020)"
   ]
  },
  {
   "cell_type": "code",
   "execution_count": 7,
   "metadata": {},
   "outputs": [
    {
     "name": "stdout",
     "output_type": "stream",
     "text": [
      "Leap\n"
     ]
    }
   ],
   "source": [
    "from packages import module\n",
    "module.isLeapYear(2020)"
   ]
  },
  {
   "cell_type": "code",
   "execution_count": 8,
   "metadata": {},
   "outputs": [
    {
     "data": {
      "text/plain": [
       "25"
      ]
     },
     "execution_count": 8,
     "metadata": {},
     "output_type": "execute_result"
    }
   ],
   "source": [
    "module.add(12,13)"
   ]
  },
  {
   "cell_type": "code",
   "execution_count": 9,
   "metadata": {},
   "outputs": [
    {
     "name": "stdout",
     "output_type": "stream",
     "text": [
      "Not a Prime\n"
     ]
    }
   ],
   "source": [
    "module.isPrime(20)"
   ]
  },
  {
   "cell_type": "code",
   "execution_count": 10,
   "metadata": {},
   "outputs": [
    {
     "name": "stdout",
     "output_type": "stream",
     "text": [
      "2\n",
      "4\n",
      "6\n",
      "8\n",
      "10\n",
      "12\n",
      "14\n",
      "16\n",
      "18\n",
      "20\n",
      "22\n",
      "24\n",
      "26\n",
      "28\n",
      "30\n"
     ]
    }
   ],
   "source": [
    "module.allEven(1,30)"
   ]
  },
  {
   "cell_type": "markdown",
   "metadata": {},
   "source": [
    "even number  : number % 2 == 0\n",
    "odd number   : number % 2 != 0\n",
    "Leap Year    : year%400 == 0 or \n",
    "               year%4 == 0 and year%100 !=0\n",
    "factorial    : ex :  5! =    5*4*3*2*1\n",
    "Special number :                "
   ]
  },
  {
   "cell_type": "code",
   "execution_count": 11,
   "metadata": {},
   "outputs": [
    {
     "data": {
      "text/plain": [
       "120"
      ]
     },
     "execution_count": 11,
     "metadata": {},
     "output_type": "execute_result"
    }
   ],
   "source": [
    "module.fact(5)"
   ]
  },
  {
   "cell_type": "markdown",
   "metadata": {},
   "source": [
    "# Files"
   ]
  },
  {
   "cell_type": "code",
   "execution_count": null,
   "metadata": {},
   "outputs": [],
   "source": [
    "# Open(data.txt,mode)\n",
    "# Write  -   open(data.txt,'w')\n",
    "# read   -   open(data.txt,'r')\n",
    "# Append -   open(data.txt,'a')\n",
    "# f.close()"
   ]
  },
  {
   "cell_type": "code",
   "execution_count": 13,
   "metadata": {},
   "outputs": [],
   "source": [
    "def writeData():\n",
    "    with open(\"files/data1.txt\",'w') as f:\n",
    "        f.write(\"APSSDC\")\n",
    "    f.close()\n",
    "writeData()"
   ]
  },
  {
   "cell_type": "code",
   "execution_count": 18,
   "metadata": {},
   "outputs": [
    {
     "name": "stdout",
     "output_type": "stream",
     "text": [
      "APSSDC\n"
     ]
    }
   ],
   "source": [
    "def readData():\n",
    "    with open(\"files/data1.txt\",\"r\") as f:\n",
    "        print(f.read())\n",
    "readData()"
   ]
  },
  {
   "cell_type": "code",
   "execution_count": 24,
   "metadata": {},
   "outputs": [],
   "source": [
    "def appendData():\n",
    "    with open(\"files/data1.txt\",\"a\") as f:\n",
    "        f.write(\"\\nWorkshop \")\n",
    "    f.close()\n",
    "appendData()"
   ]
  },
  {
   "cell_type": "code",
   "execution_count": 29,
   "metadata": {
    "collapsed": true
   },
   "outputs": [
    {
     "name": "stdout",
     "output_type": "stream",
     "text": [
      "APSSDCWorkshop\n",
      "\n",
      "Workshop \n",
      "\n",
      "Workshop \n",
      "\n",
      "Workshop \n",
      "\n",
      "Workshop \n",
      "\n",
      "Workshop \n"
     ]
    }
   ],
   "source": [
    "def readData():\n",
    "    with open(\"files/data1.txt\",\"r\") as f:\n",
    "        for line in f.readlines():\n",
    "            print(line)\n",
    "readData()"
   ]
  },
  {
   "cell_type": "code",
   "execution_count": 34,
   "metadata": {},
   "outputs": [],
   "source": [
    "# Generate student marks list \n",
    "from random import randint\n",
    "\n",
    "def markList(n,lb,ub):\n",
    "    with open(\"files/marks.txt\",\"a\") as f:\n",
    "        for student in range(60):\n",
    "            mark = randint(lb,ub)\n",
    "            f.write(str(mark))\n",
    "            f.write(\"\\n\")\n",
    "    f.close()\n",
    "markList(60,0,100)"
   ]
  },
  {
   "cell_type": "code",
   "execution_count": 39,
   "metadata": {},
   "outputs": [
    {
     "name": "stdout",
     "output_type": "stream",
     "text": [
      "average of total students 54.36666666666667\n"
     ]
    }
   ],
   "source": [
    "def avgStudentMarks():\n",
    "    with open(\"files/marks.txt\",\"r\") as f:\n",
    "        sum=0\n",
    "        c=0\n",
    "        for line in f:\n",
    "            sum +=int(line)\n",
    "            c +=1\n",
    "    print(\"average of total students\",sum/c)\n",
    "avgStudentMarks()"
   ]
  },
  {
   "cell_type": "code",
   "execution_count": null,
   "metadata": {},
   "outputs": [],
   "source": [
    "passPercentage   = >35\n",
    "failedPercentage <  35\n",
    "\n",
    "def passedStudents():\n",
    "    "
   ]
  },
  {
   "cell_type": "markdown",
   "metadata": {},
   "source": [
    "# File data Processing"
   ]
  },
  {
   "cell_type": "code",
   "execution_count": null,
   "metadata": {},
   "outputs": [],
   "source": [
    "# Manipulation of Data\n",
    "# line count\n",
    "# Word count\n",
    "# Char count\n",
    "# alpha count\n",
    "# numeric count\n",
    "# special char count"
   ]
  },
  {
   "cell_type": "code",
   "execution_count": 42,
   "metadata": {},
   "outputs": [
    {
     "data": {
      "text/plain": [
       "4"
      ]
     },
     "execution_count": 42,
     "metadata": {},
     "output_type": "execute_result"
    }
   ],
   "source": [
    "def LineCount():\n",
    "    with open(\"files/data1.txt\",\"r\") as f:\n",
    "        c=0\n",
    "        for line in f.readlines():\n",
    "            c+=1\n",
    "    return c\n",
    "LineCount()\n",
    "            "
   ]
  },
  {
   "cell_type": "code",
   "execution_count": null,
   "metadata": {},
   "outputs": [],
   "source": [
    "def CharCount():\n",
    "    "
   ]
  },
  {
   "cell_type": "code",
   "execution_count": 49,
   "metadata": {},
   "outputs": [
    {
     "name": "stdout",
     "output_type": "stream",
     "text": [
      "Char count 35\n",
      "alpha count 17\n"
     ]
    }
   ],
   "source": [
    "def alphaCount():\n",
    "    with open(\"files/data1.txt\",\"r\") as f:\n",
    "        c=0\n",
    "        ch =0\n",
    "        for char in f.read():\n",
    "            #print(char)\n",
    "            ch+=1\n",
    "            if char.isalpha() :\n",
    "                c+=1\n",
    "    print(\"Char count\",ch)\n",
    "    print(\"alpha count\",c)\n",
    "alphaCount()"
   ]
  },
  {
   "cell_type": "code",
   "execution_count": null,
   "metadata": {},
   "outputs": [],
   "source": [
    "def digitCount():\n",
    "    "
   ]
  },
  {
   "cell_type": "code",
   "execution_count": 85,
   "metadata": {},
   "outputs": [
    {
     "name": "stdout",
     "output_type": "stream",
     "text": [
      "6\n"
     ]
    }
   ],
   "source": [
    "def wordCount():\n",
    "    with open(\"files/data1.txt\",\"r\") as f:\n",
    "        c=0\n",
    "        for line in f.read():\n",
    "            if line == \" \" or line =='\\n':\n",
    "                c+=1                     \n",
    "    print(c)        \n",
    "wordCount()"
   ]
  },
  {
   "cell_type": "code",
   "execution_count": 88,
   "metadata": {},
   "outputs": [
    {
     "name": "stdout",
     "output_type": "stream",
     "text": [
      "6\n"
     ]
    }
   ],
   "source": [
    "def wordCount():\n",
    "    with open(\"files/data1.txt\",\"r\") as f:\n",
    "        c=0\n",
    "        for line in f.readlines():\n",
    "            c+=len(line.split())\n",
    "                               \n",
    "    print(c)        \n",
    "wordCount()"
   ]
  },
  {
   "cell_type": "code",
   "execution_count": 92,
   "metadata": {},
   "outputs": [
    {
     "name": "stdout",
     "output_type": "stream",
     "text": [
      "  \n",
      "   \n",
      "   #   @ $ \n",
      " 10\n"
     ]
    }
   ],
   "source": [
    "def splCharCount():\n",
    "    with open (\"files/data1.txt\",\"r\") as f:\n",
    "        c=0\n",
    "        for line in f.read():\n",
    "            if line.isalnum() != True:\n",
    "                c+=1\n",
    "                print(line,end=' ')\n",
    "    print(c)\n",
    "splCharCount()"
   ]
  },
  {
   "cell_type": "code",
   "execution_count": 137,
   "metadata": {},
   "outputs": [
    {
     "data": {
      "text/plain": [
       "'1.16.2'"
      ]
     },
     "execution_count": 137,
     "metadata": {},
     "output_type": "execute_result"
    }
   ],
   "source": [
    "import numpy\n",
    "numpy.__version__"
   ]
  },
  {
   "cell_type": "code",
   "execution_count": 141,
   "metadata": {},
   "outputs": [
    {
     "ename": "NameError",
     "evalue": "name 'python' is not defined",
     "output_type": "error",
     "traceback": [
      "\u001b[1;31m---------------------------------------------------------------------------\u001b[0m",
      "\u001b[1;31mNameError\u001b[0m                                 Traceback (most recent call last)",
      "\u001b[1;32m<ipython-input-141-c382b1de9b45>\u001b[0m in \u001b[0;36m<module>\u001b[1;34m\u001b[0m\n\u001b[1;32m----> 1\u001b[1;33m \u001b[0mprint\u001b[0m\u001b[1;33m(\u001b[0m\u001b[0mpython\u001b[0m\u001b[1;33m-\u001b[0m\u001b[1;33m-\u001b[0m\u001b[0mversion\u001b[0m\u001b[1;33m)\u001b[0m\u001b[1;33m\u001b[0m\u001b[1;33m\u001b[0m\u001b[0m\n\u001b[0m",
      "\u001b[1;31mNameError\u001b[0m: name 'python' is not defined"
     ]
    }
   ],
   "source": [
    "print(python--version)"
   ]
  },
  {
   "cell_type": "code",
   "execution_count": 143,
   "metadata": {},
   "outputs": [
    {
     "data": {
      "text/plain": [
       "sys.version_info(major=3, minor=7, micro=3, releaselevel='final', serial=0)"
      ]
     },
     "execution_count": 143,
     "metadata": {},
     "output_type": "execute_result"
    }
   ],
   "source": [
    "import sys\n",
    "sys.version_info"
   ]
  },
  {
   "cell_type": "code",
   "execution_count": null,
   "metadata": {},
   "outputs": [],
   "source": []
  }
 ],
 "metadata": {
  "kernelspec": {
   "display_name": "Python 3",
   "language": "python",
   "name": "python3"
  },
  "language_info": {
   "codemirror_mode": {
    "name": "ipython",
    "version": 3
   },
   "file_extension": ".py",
   "mimetype": "text/x-python",
   "name": "python",
   "nbconvert_exporter": "python",
   "pygments_lexer": "ipython3",
   "version": "3.7.3"
  }
 },
 "nbformat": 4,
 "nbformat_minor": 2
}
